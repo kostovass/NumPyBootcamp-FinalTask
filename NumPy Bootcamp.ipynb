{
 "cells": [
  {
   "cell_type": "markdown",
   "metadata": {
    "id": "OZpduK2BJvzZ"
   },
   "source": [
    "### **Overview**\n",
    "\n",
    "Dear Learner, \n",
    "\n",
    "Congratulations, you have studied NumPy all the way through the end of this bootcamp!!! This is the final graded hands-on exercise where you will be accomplishing the below mentioned task.\n",
    "\n",
    "**Author:** Avantika Podar"
   ]
  },
  {
   "cell_type": "markdown",
   "metadata": {
    "id": "UC6lZAsJLiFg"
   },
   "source": [
    "###Task 1:   \n",
    "\n",
    "Construct a random 3x28x28 NumPy array called *original* to represent an image and then convert this into into a 1x(3x28x28) array called *flat*. This converts it into a single row of pixels. Next, convert this to a 1D array (flatten the array using flat.flatten()). Print shape of all arrays. You may use the random function to generate the array.\n",
    "\n"
   ]
  },
  {
   "cell_type": "code",
   "execution_count": null,
   "metadata": {
    "colab": {
     "base_uri": "https://localhost:8080/"
    },
    "id": "Qno3FG8M9RXZ",
    "outputId": "95755c91-d6fc-4bc8-ea39-7820ba9c59d0"
   },
   "outputs": [
    {
     "name": "stdout",
     "output_type": "stream",
     "text": [
      "Shape of original:  (3, 28, 28)\n",
      "Shape of flat:  (1, 2352)\n",
      "Shape of flattened 1D array:  (2352,)\n"
     ]
    }
   ],
   "source": [
    "import numpy as np\n",
    "original= np.random.random((3,28,28))\n",
    "flat= np.reshape(original, (1,3*28*28))\n",
    "flat1D= flat.flatten()\n",
    "print(\"Shape of original: \", original.shape)\n",
    "print(\"Shape of flat: \",flat.shape)\n",
    "print(\"Shape of flattened 1D array: \", flat1D.shape)"
   ]
  },
  {
   "cell_type": "markdown",
   "metadata": {
    "id": "eIcDegymM1tR"
   },
   "source": [
    "### Task 2: Print out the following: \n",
    "  * dimension of the arrays.\n",
    "  * memory address of the arrays (pointer).\n",
    "  * shape of the arrays.\n",
    "  * data types of the arrays. \n",
    "\n",
    "\n"
   ]
  },
  {
   "cell_type": "code",
   "execution_count": null,
   "metadata": {
    "colab": {
     "base_uri": "https://localhost:8080/"
    },
    "id": "H9MUhbsn9Ych",
    "outputId": "f1f4b261-4248-4c07-93ec-02dee3c0b670"
   },
   "outputs": [
    {
     "name": "stdout",
     "output_type": "stream",
     "text": [
      "original\n",
      "Dimensions:  3\n",
      "Memory Address:  <memory at 0x7fd5ff6ddd50>\n",
      "Shape:  (3, 28, 28)\n",
      "Type:  float64\n",
      "\n",
      "flat\n",
      "Dimensions:  2\n",
      "Memory Address:  <memory at 0x7fd5fd857f30>\n",
      "Shape:  (1, 2352)\n",
      "Type:  float64\n",
      "\n",
      "flat1D\n",
      "Dimensions:  1\n",
      "Memory Address:  <memory at 0x7fd5fd6feef0>\n",
      "Shape:  (2352,)\n",
      "Type:  float64\n"
     ]
    }
   ],
   "source": [
    "#original\n",
    "print(\"original\")\n",
    "print(\"Dimensions: \",original.ndim)\n",
    "print(\"Memory Address: \", original.data)\n",
    "print(\"Shape: \", original.shape)\n",
    "print(\"Type: \", original.dtype)\n",
    "\n",
    "#flat\n",
    "print(\"\\nflat\")\n",
    "print(\"Dimensions: \",flat.ndim)\n",
    "print(\"Memory Address: \", flat.data)\n",
    "print(\"Shape: \", flat.shape)\n",
    "print(\"Type: \", flat.dtype)\n",
    "\n",
    "#flat1D\n",
    "print(\"\\nflat1D\")\n",
    "print(\"Dimensions: \",flat1D.ndim)\n",
    "print(\"Memory Address: \", flat1D.data)\n",
    "print(\"Shape: \", flat1D.shape)\n",
    "print(\"Type: \", flat1D.dtype)"
   ]
  },
  {
   "cell_type": "markdown",
   "metadata": {
    "id": "mZYl9CjBN9bg"
   },
   "source": [
    "### Task 3: \n",
    "Construct a new array which is a negative of the *original* array, i.e, all elements are negative of those in the *original* array. Print the new array. Add the original and new arrays. Print the result. "
   ]
  },
  {
   "cell_type": "code",
   "execution_count": null,
   "metadata": {
    "colab": {
     "base_uri": "https://localhost:8080/"
    },
    "id": "0VCQBW-F933Z",
    "outputId": "c62a0492-a2bc-4d2a-fdec-82589bf52f2e"
   },
   "outputs": [
    {
     "data": {
      "text/plain": [
       "array([[[-0.32728727, -0.38068735, -0.24023001, ..., -0.96941113,\n",
       "         -0.97625029, -0.72388561],\n",
       "        [-0.08900981, -0.28934672, -0.96568845, ..., -0.09622835,\n",
       "         -0.65390863, -0.46461259],\n",
       "        [-0.66684467, -0.97494239, -0.83315731, ..., -0.29665125,\n",
       "         -0.52114542, -0.61220197],\n",
       "        ...,\n",
       "        [-0.42379513, -0.11607306, -0.63967817, ..., -0.95037278,\n",
       "         -0.64127711, -0.76570536],\n",
       "        [-0.3988694 , -0.17859449, -0.40593418, ..., -0.72374993,\n",
       "         -0.25728892, -0.51208789],\n",
       "        [-0.32048436, -0.61753927, -0.0536562 , ..., -0.013546  ,\n",
       "         -0.499746  , -0.63669665]],\n",
       "\n",
       "       [[-0.77703449, -0.94707264, -0.21649477, ..., -0.24005022,\n",
       "         -0.9417447 , -0.30016504],\n",
       "        [-0.83798615, -0.43276893, -0.46677244, ..., -0.87386655,\n",
       "         -0.04770251, -0.05982422],\n",
       "        [-0.83102707, -0.18837651, -0.31419375, ..., -0.99314504,\n",
       "         -0.72973434, -0.50832611],\n",
       "        ...,\n",
       "        [-0.09045988, -0.29221639, -0.07264685, ..., -0.86084821,\n",
       "         -0.61810336, -0.48419104],\n",
       "        [-0.47791729, -0.9453486 , -0.99364   , ..., -0.14431822,\n",
       "         -0.44161296, -0.14654356],\n",
       "        [-0.66765408, -0.15071576, -0.71995955, ..., -0.78663445,\n",
       "         -0.81123178, -0.89885266]],\n",
       "\n",
       "       [[-0.91846008, -0.08306145, -0.36064354, ..., -0.67394672,\n",
       "         -0.05239482, -0.26393806],\n",
       "        [-0.98482311, -0.25183751, -0.1617344 , ..., -0.96016192,\n",
       "         -0.12705398, -0.38005712],\n",
       "        [-0.9894609 , -0.5376251 , -0.76388011, ..., -0.61230565,\n",
       "         -0.13988498, -0.39204075],\n",
       "        ...,\n",
       "        [-0.88719483, -0.84715701, -0.08772434, ..., -0.92197889,\n",
       "         -0.94031927, -0.83022742],\n",
       "        [-0.28248688, -0.01006116, -0.05090541, ..., -0.52903438,\n",
       "         -0.68614191, -0.52681155],\n",
       "        [-0.08894257, -0.51729351, -0.85899495, ..., -0.76104226,\n",
       "         -0.99813034, -0.73069475]]])"
      ]
     },
     "execution_count": 3,
     "metadata": {},
     "output_type": "execute_result"
    }
   ],
   "source": [
    "new_array = (-1) * original\n",
    "new_array"
   ]
  },
  {
   "cell_type": "code",
   "execution_count": null,
   "metadata": {
    "colab": {
     "base_uri": "https://localhost:8080/"
    },
    "id": "O1Tjh0Wc54kP",
    "outputId": "757b12c9-6ba1-4989-eebe-e29279db640c"
   },
   "outputs": [
    {
     "data": {
      "text/plain": [
       "array([[[0., 0., 0., ..., 0., 0., 0.],\n",
       "        [0., 0., 0., ..., 0., 0., 0.],\n",
       "        [0., 0., 0., ..., 0., 0., 0.],\n",
       "        ...,\n",
       "        [0., 0., 0., ..., 0., 0., 0.],\n",
       "        [0., 0., 0., ..., 0., 0., 0.],\n",
       "        [0., 0., 0., ..., 0., 0., 0.]],\n",
       "\n",
       "       [[0., 0., 0., ..., 0., 0., 0.],\n",
       "        [0., 0., 0., ..., 0., 0., 0.],\n",
       "        [0., 0., 0., ..., 0., 0., 0.],\n",
       "        ...,\n",
       "        [0., 0., 0., ..., 0., 0., 0.],\n",
       "        [0., 0., 0., ..., 0., 0., 0.],\n",
       "        [0., 0., 0., ..., 0., 0., 0.]],\n",
       "\n",
       "       [[0., 0., 0., ..., 0., 0., 0.],\n",
       "        [0., 0., 0., ..., 0., 0., 0.],\n",
       "        [0., 0., 0., ..., 0., 0., 0.],\n",
       "        ...,\n",
       "        [0., 0., 0., ..., 0., 0., 0.],\n",
       "        [0., 0., 0., ..., 0., 0., 0.],\n",
       "        [0., 0., 0., ..., 0., 0., 0.]]])"
      ]
     },
     "execution_count": 4,
     "metadata": {},
     "output_type": "execute_result"
    }
   ],
   "source": [
    "original + new_array"
   ]
  },
  {
   "cell_type": "markdown",
   "metadata": {
    "id": "4UKa56EzQXaU"
   },
   "source": [
    "###Task 4\n",
    "\n",
    "A 3x28x28 basically means 28x28 matrices repeated three times. How would you access the first 10 elements of the 2nd row of the second 28x28 matrix? Consider the original array for this. Print the elements."
   ]
  },
  {
   "cell_type": "code",
   "execution_count": null,
   "metadata": {
    "colab": {
     "base_uri": "https://localhost:8080/"
    },
    "id": "bc0stgsY93Tn",
    "outputId": "956e5652-7390-4137-c46f-4f15bb31b3a8"
   },
   "outputs": [
    {
     "data": {
      "text/plain": [
       "array([0.83798615, 0.43276893, 0.46677244, 0.36406468, 0.37494707,\n",
       "       0.18162012, 0.30773396, 0.39267   , 0.2677163 , 0.70125636])"
      ]
     },
     "execution_count": 6,
     "metadata": {},
     "output_type": "execute_result"
    }
   ],
   "source": [
    "original [1][1][:10]"
   ]
  },
  {
   "cell_type": "markdown",
   "metadata": {
    "id": "8USrPA7NdRXQ"
   },
   "source": [
    "### Task 5 \n",
    "A 3x28x28 image means 3 channels of Red, Green, or Blue (Popularly known as RGB image). Each color channel has a height and width, which is 28X28 in this case. The entire picture can represented through this method. Print the shape of the Blue pixel matrix and its first 3 rows."
   ]
  },
  {
   "cell_type": "code",
   "execution_count": null,
   "metadata": {
    "colab": {
     "base_uri": "https://localhost:8080/"
    },
    "id": "bQCRmVPz92r7",
    "outputId": "6bbc4877-76f9-48fa-8d61-b134185039e7"
   },
   "outputs": [
    {
     "name": "stdout",
     "output_type": "stream",
     "text": [
      "Shape: (28, 28)\n",
      "[[0.91846008 0.08306145 0.36064354 0.53143742 0.86000597 0.78893384\n",
      "  0.60755826 0.03084151 0.83982144 0.57763987 0.9987726  0.85768059\n",
      "  0.56379197 0.62174753 0.28493155 0.45844151 0.49759545 0.18390286\n",
      "  0.89331202 0.45759821 0.37866055 0.09090534 0.46816098 0.20767729\n",
      "  0.42282832 0.67394672 0.05239482 0.26393806]\n",
      " [0.98482311 0.25183751 0.1617344  0.96805637 0.97591872 0.33731365\n",
      "  0.78402423 0.37488944 0.54113628 0.58338452 0.50098656 0.82405889\n",
      "  0.8305535  0.23667379 0.56768151 0.5318403  0.22509097 0.8452554\n",
      "  0.59341015 0.95480704 0.86880989 0.7353013  0.50101069 0.95442582\n",
      "  0.12221363 0.96016192 0.12705398 0.38005712]\n",
      " [0.9894609  0.5376251  0.76388011 0.66064291 0.15132846 0.02108293\n",
      "  0.85297303 0.02568576 0.59202356 0.87048262 0.24529242 0.8163048\n",
      "  0.68353361 0.92622821 0.14221264 0.75379552 0.00126666 0.87283734\n",
      "  0.08186262 0.47837368 0.24486081 0.08269306 0.03878557 0.45004389\n",
      "  0.37503691 0.61230565 0.13988498 0.39204075]]\n"
     ]
    }
   ],
   "source": [
    "print(\"Shape:\",original [2].shape)\n",
    "print(original[2][:3])"
   ]
  },
  {
   "cell_type": "markdown",
   "metadata": {
    "id": "Nb9AZUweD-3m"
   },
   "source": [
    "### Task 6 \n",
    "Create a 1 dimensional numpy array of the first 50 even numbers. Convert this to a 10x5 numpy array and print its transpose. "
   ]
  },
  {
   "cell_type": "code",
   "execution_count": null,
   "metadata": {
    "colab": {
     "base_uri": "https://localhost:8080/"
    },
    "id": "JJj-N-Kt92Nz",
    "outputId": "0d00f327-9e25-426a-fdca-10b32b064f5b"
   },
   "outputs": [
    {
     "name": "stdout",
     "output_type": "stream",
     "text": [
      "Array\n",
      " [[ 0  2  4  6  8]\n",
      " [10 12 14 16 18]\n",
      " [20 22 24 26 28]\n",
      " [30 32 34 36 38]\n",
      " [40 42 44 46 48]\n",
      " [50 52 54 56 58]\n",
      " [60 62 64 66 68]\n",
      " [70 72 74 76 78]\n",
      " [80 82 84 86 88]\n",
      " [90 92 94 96 98]]\n",
      "Transpose\n",
      " [[ 0 10 20 30 40 50 60 70 80 90]\n",
      " [ 2 12 22 32 42 52 62 72 82 92]\n",
      " [ 4 14 24 34 44 54 64 74 84 94]\n",
      " [ 6 16 26 36 46 56 66 76 86 96]\n",
      " [ 8 18 28 38 48 58 68 78 88 98]]\n"
     ]
    }
   ],
   "source": [
    "arr = np.arange(0,100, 2)\n",
    "arr = np.reshape (arr, (10,5))\n",
    "arr_t= np.transpose(arr)\n",
    "print(\"Array\\n\",arr)\n",
    "print(\"Transpose\\n\",arr_t)"
   ]
  },
  {
   "cell_type": "markdown",
   "metadata": {
    "id": "ITBNUk5dHu0f"
   },
   "source": [
    "###Task 7 \n",
    "Consider the 10x5 array created in Task 6. Find the mean each row and column. You may use in built functions or write your own code."
   ]
  },
  {
   "cell_type": "code",
   "execution_count": null,
   "metadata": {
    "colab": {
     "base_uri": "https://localhost:8080/"
    },
    "id": "9bFi6vVf91oY",
    "outputId": "fdf4cb1e-8747-4553-f0f9-5359ba88c32e"
   },
   "outputs": [
    {
     "name": "stdout",
     "output_type": "stream",
     "text": [
      "Mean Row [ 4. 14. 24. 34. 44. 54. 64. 74. 84. 94.]\n",
      "Mean Column [45. 47. 49. 51. 53.]\n"
     ]
    }
   ],
   "source": [
    "mean_r= np.mean(arr,1)\n",
    "print(\"Mean Row\", mean_r)\n",
    "\n",
    "mean_c = np.mean(arr,0)\n",
    "print(\"Mean Column\", mean_c)"
   ]
  },
  {
   "cell_type": "markdown",
   "metadata": {
    "id": "WEHBWo7AGXKK"
   },
   "source": [
    "### Task 8\n",
    "Can we create a 3x3 array of the first 50 even numbers? Why or why not? What are other values of m and n for which mxn dimension is allowed for 50 elements?"
   ]
  },
  {
   "cell_type": "markdown",
   "metadata": {
    "id": "nGirNkBS90-J"
   },
   "source": [
    "No, as 50 is not divisible by 3 and hence cannot be arranged in 3x3 form.\n",
    "Other possible values = 1x50 or 50x1; 2x25 or 25x2; 5x10 or 10x5"
   ]
  }
 ],
 "metadata": {
  "colab": {
   "name": "Solution for NumPy Bootcamp Graded Hands-on Exercise.ipynb",
   "provenance": []
  },
  "kernelspec": {
   "display_name": "Python 3",
   "language": "python",
   "name": "python3"
  },
  "language_info": {
   "codemirror_mode": {
    "name": "ipython",
    "version": 3
   },
   "file_extension": ".py",
   "mimetype": "text/x-python",
   "name": "python",
   "nbconvert_exporter": "python",
   "pygments_lexer": "ipython3",
   "version": "3.8.5"
  }
 },
 "nbformat": 4,
 "nbformat_minor": 1
}
